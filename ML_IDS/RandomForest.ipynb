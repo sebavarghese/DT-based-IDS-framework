{
 "cells": [
  {
   "cell_type": "code",
   "execution_count": 26,
   "metadata": {},
   "outputs": [
    {
     "name": "stdout",
     "output_type": "stream",
     "text": [
      "['tank_liquidlevel', 'tank_upperbound', 'tank_lowerbound', 'flowlevel', 'sensor2_thresh', 'bottle_liquidlevel', 'bottle_upperbound', 'bottle_lowerbound', 'motor_status']\n"
     ]
    }
   ],
   "source": [
    "import pandas as pd\n",
    "import time\n",
    "from sklearn.multioutput import MultiOutputClassifier\n",
    "from sklearn.naive_bayes import GaussianNB\n",
    "#Load training dataset\n",
    "dataset1 = pd.read_csv(\"C:/Users/sebaa/OneDrive/Studies/Thesis_RISE_2021/Thesis_ML_impl/labelled.csv\")\n",
    "\n",
    "features = dataset1.columns.tolist()\n",
    "features.remove('timestamp'), features.remove('class'), features.remove('attack_type')\n",
    "print(features)\n",
    "target=['class', 'attack_type']\n",
    "#Import Random Forest Model\n",
    "from sklearn.ensemble import RandomForestClassifier\n",
    "\n",
    "rf = RandomForestClassifier(random_state=1)\n",
    "clf = MultiOutputClassifier(rf, n_jobs=-1)\n",
    "#Train the model using the training sets\n",
    "clf.fit(dataset1[features], dataset1[target])\n",
    "\n",
    "dataset2 = pd.read_csv(\"C:/Users/sebaa/OneDrive/Studies/Thesis_RISE_2021/Thesis_ML_impl/data.csv\")\n",
    "pred = clf.predict(dataset2[features])\n",
    "dataset2[target] = pred\n",
    "dataset2.to_csv('predicted_rf.csv')\n"
   ]
  },
  {
   "cell_type": "code",
   "execution_count": null,
   "metadata": {},
   "outputs": [],
   "source": []
  }
 ],
 "metadata": {
  "kernelspec": {
   "display_name": "Python 3",
   "language": "python",
   "name": "python3"
  },
  "language_info": {
   "codemirror_mode": {
    "name": "ipython",
    "version": 3
   },
   "file_extension": ".py",
   "mimetype": "text/x-python",
   "name": "python",
   "nbconvert_exporter": "python",
   "pygments_lexer": "ipython3",
   "version": "3.8.5"
  }
 },
 "nbformat": 4,
 "nbformat_minor": 4
}
